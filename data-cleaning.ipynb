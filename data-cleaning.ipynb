{
 "cells": [
  {
   "cell_type": "code",
   "execution_count": 1,
   "metadata": {},
   "outputs": [],
   "source": [
    "import pandas as pd\n",
    "import numpy as np \n",
    "import seaborn as sns\n",
    "from matplotlib import pyplot as plt "
   ]
  },
  {
   "cell_type": "code",
   "execution_count": 2,
   "metadata": {},
   "outputs": [
    {
     "data": {
      "text/html": [
       "<div>\n",
       "<style scoped>\n",
       "    .dataframe tbody tr th:only-of-type {\n",
       "        vertical-align: middle;\n",
       "    }\n",
       "\n",
       "    .dataframe tbody tr th {\n",
       "        vertical-align: top;\n",
       "    }\n",
       "\n",
       "    .dataframe thead th {\n",
       "        text-align: right;\n",
       "    }\n",
       "</style>\n",
       "<table border=\"1\" class=\"dataframe\">\n",
       "  <thead>\n",
       "    <tr style=\"text-align: right;\">\n",
       "      <th></th>\n",
       "      <th>model</th>\n",
       "      <th>price</th>\n",
       "      <th>rating</th>\n",
       "      <th>sim</th>\n",
       "      <th>processor</th>\n",
       "      <th>ram</th>\n",
       "      <th>battery</th>\n",
       "      <th>display</th>\n",
       "      <th>camera</th>\n",
       "      <th>card</th>\n",
       "      <th>os</th>\n",
       "    </tr>\n",
       "  </thead>\n",
       "  <tbody>\n",
       "    <tr>\n",
       "      <th>0</th>\n",
       "      <td>OnePlus 11 5G</td>\n",
       "      <td>?54,999</td>\n",
       "      <td>89.0</td>\n",
       "      <td>Dual Sim, 3G, 4G, 5G, VoLTE, Wi-Fi, NFC</td>\n",
       "      <td>Snapdragon 8 Gen2, Octa Core, 3.2?GHz Processor</td>\n",
       "      <td>12?GB RAM, 256?GB inbuilt</td>\n",
       "      <td>5000?mAh Battery with 100W Fast Charging</td>\n",
       "      <td>6.7 inches, 1440?x?3216?px, 120 Hz Display wit...</td>\n",
       "      <td>50?MP + 48?MP + 32?MP Triple Rear &amp; 16?MP Fron...</td>\n",
       "      <td>Memory Card Not Supported</td>\n",
       "      <td>Android v13</td>\n",
       "    </tr>\n",
       "    <tr>\n",
       "      <th>1</th>\n",
       "      <td>OnePlus Nord CE 2 Lite 5G</td>\n",
       "      <td>?19,989</td>\n",
       "      <td>81.0</td>\n",
       "      <td>Dual Sim, 3G, 4G, 5G, VoLTE, Wi-Fi</td>\n",
       "      <td>Snapdragon 695, Octa Core, 2.2?GHz Processor</td>\n",
       "      <td>6?GB RAM, 128?GB inbuilt</td>\n",
       "      <td>5000?mAh Battery with 33W Fast Charging</td>\n",
       "      <td>6.59 inches, 1080?x?2412?px, 120 Hz Display wi...</td>\n",
       "      <td>64?MP + 2?MP + 2?MP Triple Rear &amp; 16?MP Front ...</td>\n",
       "      <td>Memory Card (Hybrid), upto 1?TB</td>\n",
       "      <td>Android v12</td>\n",
       "    </tr>\n",
       "    <tr>\n",
       "      <th>2</th>\n",
       "      <td>Samsung Galaxy A14 5G</td>\n",
       "      <td>?16,499</td>\n",
       "      <td>75.0</td>\n",
       "      <td>Dual Sim, 3G, 4G, 5G, VoLTE, Wi-Fi</td>\n",
       "      <td>Exynos 1330, Octa Core, 2.4?GHz Processor</td>\n",
       "      <td>4?GB RAM, 64?GB inbuilt</td>\n",
       "      <td>5000?mAh Battery with 15W Fast Charging</td>\n",
       "      <td>6.6 inches, 1080?x?2408?px, 90 Hz Display with...</td>\n",
       "      <td>50?MP + 2?MP + 2?MP Triple Rear &amp; 13?MP Front ...</td>\n",
       "      <td>Memory Card Supported, upto 1?TB</td>\n",
       "      <td>Android v13</td>\n",
       "    </tr>\n",
       "    <tr>\n",
       "      <th>3</th>\n",
       "      <td>Motorola Moto G62 5G</td>\n",
       "      <td>?14,999</td>\n",
       "      <td>81.0</td>\n",
       "      <td>Dual Sim, 3G, 4G, 5G, VoLTE, Wi-Fi</td>\n",
       "      <td>Snapdragon  695, Octa Core, 2.2?GHz Processor</td>\n",
       "      <td>6?GB RAM, 128?GB inbuilt</td>\n",
       "      <td>5000?mAh Battery with Fast Charging</td>\n",
       "      <td>6.55 inches, 1080?x?2400?px, 120 Hz Display wi...</td>\n",
       "      <td>50?MP + 8?MP + 2?MP Triple Rear &amp; 16?MP Front ...</td>\n",
       "      <td>Memory Card (Hybrid), upto 1?TB</td>\n",
       "      <td>Android v12</td>\n",
       "    </tr>\n",
       "    <tr>\n",
       "      <th>4</th>\n",
       "      <td>Realme 10 Pro Plus</td>\n",
       "      <td>?24,999</td>\n",
       "      <td>82.0</td>\n",
       "      <td>Dual Sim, 3G, 4G, 5G, VoLTE, Wi-Fi</td>\n",
       "      <td>Dimensity 1080, Octa Core, 2.6?GHz Processor</td>\n",
       "      <td>6?GB RAM, 128?GB inbuilt</td>\n",
       "      <td>5000?mAh Battery with 67W Fast Charging</td>\n",
       "      <td>6.7 inches, 1080?x?2412?px, 120 Hz Display wit...</td>\n",
       "      <td>108?MP + 8?MP + 2?MP Triple Rear &amp; 16?MP Front...</td>\n",
       "      <td>Memory Card Not Supported</td>\n",
       "      <td>Android v13</td>\n",
       "    </tr>\n",
       "  </tbody>\n",
       "</table>\n",
       "</div>"
      ],
      "text/plain": [
       "                       model    price  rating  \\\n",
       "0              OnePlus 11 5G  ?54,999    89.0   \n",
       "1  OnePlus Nord CE 2 Lite 5G  ?19,989    81.0   \n",
       "2      Samsung Galaxy A14 5G  ?16,499    75.0   \n",
       "3       Motorola Moto G62 5G  ?14,999    81.0   \n",
       "4         Realme 10 Pro Plus  ?24,999    82.0   \n",
       "\n",
       "                                       sim  \\\n",
       "0  Dual Sim, 3G, 4G, 5G, VoLTE, Wi-Fi, NFC   \n",
       "1       Dual Sim, 3G, 4G, 5G, VoLTE, Wi-Fi   \n",
       "2       Dual Sim, 3G, 4G, 5G, VoLTE, Wi-Fi   \n",
       "3       Dual Sim, 3G, 4G, 5G, VoLTE, Wi-Fi   \n",
       "4       Dual Sim, 3G, 4G, 5G, VoLTE, Wi-Fi   \n",
       "\n",
       "                                         processor                        ram  \\\n",
       "0  Snapdragon 8 Gen2, Octa Core, 3.2?GHz Processor  12?GB RAM, 256?GB inbuilt   \n",
       "1     Snapdragon 695, Octa Core, 2.2?GHz Processor   6?GB RAM, 128?GB inbuilt   \n",
       "2        Exynos 1330, Octa Core, 2.4?GHz Processor    4?GB RAM, 64?GB inbuilt   \n",
       "3    Snapdragon  695, Octa Core, 2.2?GHz Processor   6?GB RAM, 128?GB inbuilt   \n",
       "4     Dimensity 1080, Octa Core, 2.6?GHz Processor   6?GB RAM, 128?GB inbuilt   \n",
       "\n",
       "                                    battery  \\\n",
       "0  5000?mAh Battery with 100W Fast Charging   \n",
       "1   5000?mAh Battery with 33W Fast Charging   \n",
       "2   5000?mAh Battery with 15W Fast Charging   \n",
       "3       5000?mAh Battery with Fast Charging   \n",
       "4   5000?mAh Battery with 67W Fast Charging   \n",
       "\n",
       "                                             display  \\\n",
       "0  6.7 inches, 1440?x?3216?px, 120 Hz Display wit...   \n",
       "1  6.59 inches, 1080?x?2412?px, 120 Hz Display wi...   \n",
       "2  6.6 inches, 1080?x?2408?px, 90 Hz Display with...   \n",
       "3  6.55 inches, 1080?x?2400?px, 120 Hz Display wi...   \n",
       "4  6.7 inches, 1080?x?2412?px, 120 Hz Display wit...   \n",
       "\n",
       "                                              camera  \\\n",
       "0  50?MP + 48?MP + 32?MP Triple Rear & 16?MP Fron...   \n",
       "1  64?MP + 2?MP + 2?MP Triple Rear & 16?MP Front ...   \n",
       "2  50?MP + 2?MP + 2?MP Triple Rear & 13?MP Front ...   \n",
       "3  50?MP + 8?MP + 2?MP Triple Rear & 16?MP Front ...   \n",
       "4  108?MP + 8?MP + 2?MP Triple Rear & 16?MP Front...   \n",
       "\n",
       "                               card           os  \n",
       "0         Memory Card Not Supported  Android v13  \n",
       "1   Memory Card (Hybrid), upto 1?TB  Android v12  \n",
       "2  Memory Card Supported, upto 1?TB  Android v13  \n",
       "3   Memory Card (Hybrid), upto 1?TB  Android v12  \n",
       "4         Memory Card Not Supported  Android v13  "
      ]
     },
     "execution_count": 2,
     "metadata": {},
     "output_type": "execute_result"
    }
   ],
   "source": [
    "df = pd.read_csv(\"phone.csv\")\n",
    "df.head()"
   ]
  },
  {
   "cell_type": "code",
   "execution_count": 3,
   "metadata": {},
   "outputs": [
    {
     "data": {
      "text/plain": [
       "Index(['model', 'price', 'rating', 'sim', 'processor', 'ram', 'battery',\n",
       "       'display', 'camera', 'card', 'os'],\n",
       "      dtype='object')"
      ]
     },
     "execution_count": 3,
     "metadata": {},
     "output_type": "execute_result"
    }
   ],
   "source": [
    "df.columns"
   ]
  },
  {
   "cell_type": "code",
   "execution_count": 4,
   "metadata": {},
   "outputs": [
    {
     "name": "stdout",
     "output_type": "stream",
     "text": [
      "<class 'pandas.core.frame.DataFrame'>\n",
      "RangeIndex: 1020 entries, 0 to 1019\n",
      "Data columns (total 11 columns):\n",
      " #   Column     Non-Null Count  Dtype  \n",
      "---  ------     --------------  -----  \n",
      " 0   model      1019 non-null   object \n",
      " 1   price      1020 non-null   object \n",
      " 2   rating     879 non-null    float64\n",
      " 3   sim        1020 non-null   object \n",
      " 4   processor  1020 non-null   object \n",
      " 5   ram        1020 non-null   object \n",
      " 6   battery    1020 non-null   object \n",
      " 7   display    1020 non-null   object \n",
      " 8   camera     1019 non-null   object \n",
      " 9   card       1013 non-null   object \n",
      " 10  os         1003 non-null   object \n",
      "dtypes: float64(1), object(10)\n",
      "memory usage: 87.8+ KB\n"
     ]
    }
   ],
   "source": [
    "df.info()"
   ]
  },
  {
   "cell_type": "code",
   "execution_count": 5,
   "metadata": {},
   "outputs": [],
   "source": [
    "df.dropna(inplace=True)"
   ]
  },
  {
   "cell_type": "code",
   "execution_count": 6,
   "metadata": {},
   "outputs": [
    {
     "name": "stdout",
     "output_type": "stream",
     "text": [
      "<class 'pandas.core.frame.DataFrame'>\n",
      "Index: 878 entries, 0 to 1019\n",
      "Data columns (total 11 columns):\n",
      " #   Column     Non-Null Count  Dtype  \n",
      "---  ------     --------------  -----  \n",
      " 0   model      878 non-null    object \n",
      " 1   price      878 non-null    object \n",
      " 2   rating     878 non-null    float64\n",
      " 3   sim        878 non-null    object \n",
      " 4   processor  878 non-null    object \n",
      " 5   ram        878 non-null    object \n",
      " 6   battery    878 non-null    object \n",
      " 7   display    878 non-null    object \n",
      " 8   camera     878 non-null    object \n",
      " 9   card       878 non-null    object \n",
      " 10  os         878 non-null    object \n",
      "dtypes: float64(1), object(10)\n",
      "memory usage: 82.3+ KB\n"
     ]
    }
   ],
   "source": [
    "df.info()"
   ]
  },
  {
   "cell_type": "code",
   "execution_count": 7,
   "metadata": {},
   "outputs": [],
   "source": [
    "price= df['price']\n",
    "processor = df['processor']\n",
    "display = df['display']"
   ]
  },
  {
   "cell_type": "code",
   "execution_count": 8,
   "metadata": {},
   "outputs": [
    {
     "data": {
      "text/html": [
       "<div>\n",
       "<style scoped>\n",
       "    .dataframe tbody tr th:only-of-type {\n",
       "        vertical-align: middle;\n",
       "    }\n",
       "\n",
       "    .dataframe tbody tr th {\n",
       "        vertical-align: top;\n",
       "    }\n",
       "\n",
       "    .dataframe thead th {\n",
       "        text-align: right;\n",
       "    }\n",
       "</style>\n",
       "<table border=\"1\" class=\"dataframe\">\n",
       "  <thead>\n",
       "    <tr style=\"text-align: right;\">\n",
       "      <th></th>\n",
       "      <th>0</th>\n",
       "      <th>1</th>\n",
       "    </tr>\n",
       "  </thead>\n",
       "  <tbody>\n",
       "    <tr>\n",
       "      <th>0</th>\n",
       "      <td>Snapdragon</td>\n",
       "      <td>8 Gen2, Octa Core, 3.2?GHz Processor</td>\n",
       "    </tr>\n",
       "    <tr>\n",
       "      <th>1</th>\n",
       "      <td>Snapdragon</td>\n",
       "      <td>695, Octa Core, 2.2?GHz Processor</td>\n",
       "    </tr>\n",
       "    <tr>\n",
       "      <th>2</th>\n",
       "      <td>Exynos</td>\n",
       "      <td>1330, Octa Core, 2.4?GHz Processor</td>\n",
       "    </tr>\n",
       "    <tr>\n",
       "      <th>3</th>\n",
       "      <td>Snapdragon</td>\n",
       "      <td>695, Octa Core, 2.2?GHz Processor</td>\n",
       "    </tr>\n",
       "    <tr>\n",
       "      <th>4</th>\n",
       "      <td>Dimensity</td>\n",
       "      <td>1080, Octa Core, 2.6?GHz Processor</td>\n",
       "    </tr>\n",
       "    <tr>\n",
       "      <th>...</th>\n",
       "      <td>...</td>\n",
       "      <td>...</td>\n",
       "    </tr>\n",
       "    <tr>\n",
       "      <th>1015</th>\n",
       "      <td>Snapdragon</td>\n",
       "      <td>8 Gen1, Octa Core, 3?GHz Processor</td>\n",
       "    </tr>\n",
       "    <tr>\n",
       "      <th>1016</th>\n",
       "      <td>Snapdragon</td>\n",
       "      <td>480+, Octa Core, 2.2?GHz Processor</td>\n",
       "    </tr>\n",
       "    <tr>\n",
       "      <th>1017</th>\n",
       "      <td>Dimensity</td>\n",
       "      <td>8100, Octa Core, 2.85?GHz Processor</td>\n",
       "    </tr>\n",
       "    <tr>\n",
       "      <th>1018</th>\n",
       "      <td>Snapdragon</td>\n",
       "      <td>695, Octa Core, 2.2?GHz Processor</td>\n",
       "    </tr>\n",
       "    <tr>\n",
       "      <th>1019</th>\n",
       "      <td>Octa</td>\n",
       "      <td>Core Processor</td>\n",
       "    </tr>\n",
       "  </tbody>\n",
       "</table>\n",
       "<p>878 rows × 2 columns</p>\n",
       "</div>"
      ],
      "text/plain": [
       "               0                                     1\n",
       "0     Snapdragon  8 Gen2, Octa Core, 3.2?GHz Processor\n",
       "1     Snapdragon     695, Octa Core, 2.2?GHz Processor\n",
       "2         Exynos    1330, Octa Core, 2.4?GHz Processor\n",
       "3     Snapdragon     695, Octa Core, 2.2?GHz Processor\n",
       "4      Dimensity    1080, Octa Core, 2.6?GHz Processor\n",
       "...          ...                                   ...\n",
       "1015  Snapdragon    8 Gen1, Octa Core, 3?GHz Processor\n",
       "1016  Snapdragon    480+, Octa Core, 2.2?GHz Processor\n",
       "1017   Dimensity   8100, Octa Core, 2.85?GHz Processor\n",
       "1018  Snapdragon     695, Octa Core, 2.2?GHz Processor\n",
       "1019        Octa                        Core Processor\n",
       "\n",
       "[878 rows x 2 columns]"
      ]
     },
     "execution_count": 8,
     "metadata": {},
     "output_type": "execute_result"
    }
   ],
   "source": [
    "processor.str.split(n=1,expand= True)"
   ]
  },
  {
   "cell_type": "markdown",
   "metadata": {},
   "source": [
    "Handling Missing Data"
   ]
  },
  {
   "cell_type": "code",
   "execution_count": 9,
   "metadata": {},
   "outputs": [],
   "source": [
    "df[\"rating\"].fillna(round(df[\"rating\"].mean()),inplace=True)\n",
    "df[\"os\"].fillna(df[\"os\"].mode(),inplace=True)\n",
    "df.dropna(inplace=True)"
   ]
  },
  {
   "cell_type": "code",
   "execution_count": 10,
   "metadata": {},
   "outputs": [
    {
     "data": {
      "text/plain": [
       "0"
      ]
     },
     "execution_count": 10,
     "metadata": {},
     "output_type": "execute_result"
    }
   ],
   "source": [
    "df.isnull().sum().sum()"
   ]
  },
  {
   "cell_type": "markdown",
   "metadata": {},
   "source": [
    "Data Cleaning"
   ]
  },
  {
   "cell_type": "code",
   "execution_count": 11,
   "metadata": {},
   "outputs": [
    {
     "name": "stdout",
     "output_type": "stream",
     "text": [
      "model - 878\n",
      "price - 331\n",
      "rating - 30\n",
      "sim - 19\n",
      "processor - 245\n",
      "ram - 26\n",
      "battery - 210\n",
      "display - 299\n",
      "camera - 240\n",
      "card - 36\n",
      "os - 32\n"
     ]
    }
   ],
   "source": [
    "columns=df.columns\n",
    "for i in columns:\n",
    "    print(i,\"-\",df[i].nunique())"
   ]
  },
  {
   "cell_type": "code",
   "execution_count": 12,
   "metadata": {},
   "outputs": [],
   "source": [
    "df.replace(\"\\?\",\"\",inplace=True,regex=True)"
   ]
  },
  {
   "cell_type": "code",
   "execution_count": 13,
   "metadata": {},
   "outputs": [],
   "source": [
    "#the column battery contains some data which belongs to other columns\n",
    "battery_ram_shift=df[[\"battery\"]][(~df[\"battery\"].str.contains(\"Camera\"))&(~df[\"battery\"].str.contains(\"inches\"))&(~df[\"battery\"].str.contains(\"mAh\"))]\n",
    "battery_camera_shift=df[[\"battery\"]][(~df[\"battery\"].str.contains(\"RAM\"))&(~df[\"battery\"].str.contains(\"inches\"))&(~df[\"battery\"].str.contains(\"mAh\"))]\n",
    "battery_ram_shift.rename(columns={\"battery\":\"ram\"},inplace=True)\n",
    "battery_camera_shift.rename(columns={\"battery\":\"camera\"},inplace=True)"
   ]
  },
  {
   "cell_type": "code",
   "execution_count": 14,
   "metadata": {},
   "outputs": [],
   "source": [
    "#the column camera contains some data which belongs to other columns\n",
    "camera_memory_shift=df[[\"camera\"]][(~df[\"camera\"].str.contains(\"Camera\",regex=True))&(~df[\"camera\"].str.contains(\"Display\",regex=True))]\n",
    "camera_Display_shift=df[[\"camera\"]][(~df[\"camera\"].str.contains(\"Camera\",regex=True))&(~df[\"camera\"].str.contains(\"Memory\",regex=True))]\n",
    "camera_memory_shift.rename(columns={\"camera\":\"card\"},inplace=True)\n",
    "camera_Display_shift.rename(columns={\"camera\":\"display\"},inplace=True)"
   ]
  },
  {
   "cell_type": "code",
   "execution_count": 15,
   "metadata": {},
   "outputs": [],
   "source": [
    "#the column card contains some data which belongs to other columns\n",
    "card_os_shift=df[[\"card\"]][(~df['card'].str.contains(\"Memory\"))&(~df['card'].str.contains(\"Camera\"))&(~df['card'].str.contains(\"Display\"))]\n",
    "card_camera_shift=df[[\"card\"]][(~df['card'].str.contains(\"Memory\"))&(~df['card'].str.contains(\"Android\"))&(~df['card'].str.contains(\"Bluetooth\"))&(~df['card'].str.contains(\"OS\"))&(df['card'].str.contains(\"Camera\"))]\n",
    "card_Display_shift=df[[\"card\"]][(~df['card'].str.contains(\"Memory\"))&(df['card'].str.contains(\"Display\"))]\n",
    "card_camera_shift.rename(columns={\"card\":\"camera\"},inplace=True)\n",
    "card_Display_shift.rename(columns={\"card\":\"display\"},inplace=True)\n",
    "card_os_shift.rename(columns={\"card\":\"os\"},inplace=True)"
   ]
  },
  {
   "cell_type": "code",
   "execution_count": 16,
   "metadata": {},
   "outputs": [],
   "source": [
    "#the column display contains some data which belongs to other columns\n",
    "display_battery_shift=df[[\"display\"]][(~df['display'].str.contains(\"Display\"))&(df['display'].str.contains(\"Battery\"))]\n",
    "display_camera_shift=df[[\"display\"]][(~df['display'].str.contains(\"Display\"))&(df['display'].str.contains(\"Camera\"))]\n",
    "display_camera_shift.rename(columns={\"display\":\"camera\"},inplace=True)\n",
    "display_battery_shift.rename(columns={\"display\":\"battery\"},inplace=True)"
   ]
  },
  {
   "cell_type": "code",
   "execution_count": 17,
   "metadata": {},
   "outputs": [],
   "source": [
    "#the column os contains some data which belongs to other columns\n",
    "os_card_shift=df[[\"os\"]][df['os'].str.contains(\"Memory\")]\n",
    "os_camera_shift=df[[\"os\"]][df['os'].str.contains(\"Camera\")]\n",
    "os_camera_shift.rename(columns={\"os\":\"camera\"},inplace=True)\n",
    "os_card_shift.rename(columns={\"os\":\"card\"},inplace=True)"
   ]
  },
  {
   "cell_type": "code",
   "execution_count": 18,
   "metadata": {},
   "outputs": [],
   "source": [
    "#the column processor contains some data which belongs to other columns\n",
    "processor_sim_shift=df[[\"processor\"]][(df['processor'].str.contains(\"No\"))]\n",
    "processor_sim_shift.rename(columns={\"processor\":\"sim\"},inplace=True)\n"
   ]
  },
  {
   "cell_type": "code",
   "execution_count": 19,
   "metadata": {},
   "outputs": [],
   "source": [
    "#the column ram contains some data which belongs to other columns\n",
    "ram_battery_shift=df[['ram']][(~df['ram'].str.contains(\"RAM\"))&(df['ram'].str.contains(\"Battery\"))]\n",
    "ram_os_shift=df[['ram']][(~df['ram'].str.contains(\"GB\"))&(df['ram'].str.contains(\"T\"))]\n",
    "ram_display_shift=df[['ram']][(df['ram'].str.contains(\"Display\"))]\n",
    "ram_sim_shift=df[['ram']][(df['ram'].str.contains(\"No\"))]\n",
    "ram_processor_shift=df[['ram']][(df['ram'].str.contains(\"Core\"))]"
   ]
  },
  {
   "cell_type": "code",
   "execution_count": 20,
   "metadata": {},
   "outputs": [],
   "source": [
    "ram_battery_shift.rename(columns={\"ram\":\"battery\"},inplace=True)\n",
    "ram_display_shift.rename(columns={\"ram\":\"display\"},inplace=True)\n",
    "ram_os_shift.rename(columns={\"ram\":\"os\"},inplace=True)\n",
    "ram_processor_shift.rename(columns={\"ram\":\"proessor\"},inplace=True)\n",
    "ram_sim_shift.rename(columns={\"ram\":\"sim\"},inplace=True)"
   ]
  },
  {
   "cell_type": "code",
   "execution_count": 21,
   "metadata": {},
   "outputs": [],
   "source": [
    "#code for shifting the inappropriate data to their respective columns\n",
    "df.update(battery_camera_shift)\n",
    "df.update(battery_ram_shift)\n",
    "df.update(processor_sim_shift)\n",
    "df.update(ram_battery_shift)\n",
    "df.update(ram_display_shift)\n",
    "df.update(ram_os_shift)\n",
    "df.update(ram_processor_shift)\n",
    "df.update(ram_sim_shift)\n",
    "df.update(display_battery_shift)\n",
    "df.update(display_camera_shift)\n",
    "df.update(camera_Display_shift)\n",
    "df.update(camera_memory_shift)\n",
    "df.update(card_camera_shift)\n",
    "df.update(card_Display_shift)\n",
    "df.update(card_os_shift)\n",
    "df.update(os_camera_shift)\n",
    "df.update(os_card_shift)"
   ]
  },
  {
   "cell_type": "code",
   "execution_count": 22,
   "metadata": {},
   "outputs": [],
   "source": [
    "#replacing the inappropirate data with mode of that column\n",
    "df[\"battery\"]=np.where(df[\"battery\"].str.contains(\"mAh\"),df[\"battery\"],df[\"battery\"].mode())\n",
    "df[\"card\"]=np.where(df[\"card\"].str.contains(\"Memory\"),df[\"card\"],df[\"card\"].mode())\n",
    "df[\"os\"]=np.where(df[\"os\"].str.contains(\"Memory\"),df[\"os\"].mode(),df[\"os\"])\n",
    "df[\"os\"]=np.where(df[\"os\"].str.contains(\"Camera\"),df[\"os\"].mode(),df[\"os\"])\n",
    "df[\"ram\"]=np.where(df[\"ram\"].str.contains(\"Display\"),df[\"ram\"].mode(),df[\"ram\"])\n",
    "df[\"ram\"]=np.where(df[\"ram\"].str.contains(\"Battery\"),df[\"ram\"].mode(),df[\"ram\"])\n",
    "df[\"display\"]=np.where(df[\"display\"].str.contains(\"Display\"),df[\"display\"],df[\"display\"].mode())\n",
    "df[\"processor\"]=np.where(df[\"processor\"].str.contains(\"No\"),df[\"processor\"].mode(),df[\"processor\"])\n",
    "df[\"processor\"]=np.where(df[\"processor\"].str.contains(\"RAM\"),df[\"processor\"].mode(),df[\"processor\"])"
   ]
  },
  {
   "cell_type": "code",
   "execution_count": 23,
   "metadata": {},
   "outputs": [],
   "source": [
    "battery=df['battery'].str.split(\"with\",expand=True).rename(columns={0:'battery_capacity', 1:'charging_capacity'})\n",
    "battery['battery_capacity'].replace(\"mAh Battery\",\"\",inplace=True,regex=True)\n",
    "battery['battery_capacity']=battery['battery_capacity'].str.strip()"
   ]
  },
  {
   "cell_type": "code",
   "execution_count": 24,
   "metadata": {},
   "outputs": [],
   "source": [
    "battery['charging_capacity'].replace(\"W Fast Charging\",\"\",inplace=True,regex=True)\n",
    "battery['charging_capacity'].replace(\"Fast Charging\",33,inplace=True,regex=True)\n",
    "battery['charging_capacity']=battery['charging_capacity'].str.strip()"
   ]
  },
  {
   "cell_type": "code",
   "execution_count": 25,
   "metadata": {},
   "outputs": [
    {
     "data": {
      "text/plain": [
       "array(['5000', '3279', '4980', '4500', '3240', '4700', '4830', '4800',\n",
       "       '4323', '3110', '5200', '6000', '4325', '4600', '4200', '3095',\n",
       "       '4020', '3200', '4400', '4310', '3700', '5160', '5080', '3900',\n",
       "       '4410', '5020', '4352', '4810', '2050', '4000', '5100', '7000',\n",
       "       '4300', '5500', '4050', '4355', '3060', '5003', '2438', '3500',\n",
       "       '4250', '3300', '4450', '4614', '4030', '4350', '2800', '4100',\n",
       "       '21000', '4520', '2275', '4230', '3520', '4080', '5050', '5600',\n",
       "       '4470', '9800', '1821', '4015', '3285', '3315', '3600', '3100',\n",
       "       '3000', '22000', '3360', '4532', '5065', '4620', '4780', '3730',\n",
       "       '3400', '5180', '8000'], dtype=object)"
      ]
     },
     "execution_count": 25,
     "metadata": {},
     "output_type": "execute_result"
    }
   ],
   "source": [
    "battery['battery_capacity'].unique()"
   ]
  },
  {
   "cell_type": "code",
   "execution_count": 26,
   "metadata": {},
   "outputs": [
    {
     "data": {
      "text/plain": [
       "array(['100', '33', '15', nan, '67', '25', '120', '80', '18', '10', '66',\n",
       "       '44', None, '210', '30', '45', '150', '68', '50', '20', '65',\n",
       "       '180', '125', '40', '60', '200', '240', '19', '21', '135', '165',\n",
       "       '22.5', '27', '55', '68.2'], dtype=object)"
      ]
     },
     "execution_count": 26,
     "metadata": {},
     "output_type": "execute_result"
    }
   ],
   "source": [
    "battery['charging_capacity'].unique()"
   ]
  },
  {
   "cell_type": "code",
   "execution_count": 27,
   "metadata": {},
   "outputs": [],
   "source": [
    "battery['charging_capacity'].fillna(33,inplace=True)"
   ]
  },
  {
   "cell_type": "markdown",
   "metadata": {},
   "source": [
    "Column Camera"
   ]
  },
  {
   "cell_type": "code",
   "execution_count": 28,
   "metadata": {},
   "outputs": [],
   "source": [
    "camera=df['camera'].str.split(\"&\",expand=True).rename(columns={0:'Rear Camera', 1:'Front Camera'})\n",
    "frontCam=camera['Front Camera'].str.split(\"+\",expand=True).rename(columns={0:'Main Camera', 1:'Additional Camera'})\n",
    "frontCam['Main Camera'].replace(\"Front Camera\",\"\",inplace=True,regex=True)\n",
    "frontCam['Main Camera'].replace({\"MP\":\"\",\"Dual\":\"\",\"Main\":16},inplace=True,regex=True)"
   ]
  },
  {
   "cell_type": "code",
   "execution_count": 29,
   "metadata": {},
   "outputs": [],
   "source": [
    "frontCam['Main Camera']=frontCam['Main Camera'].str.strip()\n",
    "camera['Front Camera']=frontCam['Main Camera']\n",
    "camera['Rear Camera'].replace({\"Triple Rear\":\"\",\"MP\":\"\"},regex=True,inplace=True)\n",
    "Rear_Camera=camera['Rear Camera'].str.split(\"+\",expand=True).rename(columns={0:'Primary Camera', 1:'Secondary Camera', 2:'Additional Camera'})"
   ]
  },
  {
   "cell_type": "code",
   "execution_count": 30,
   "metadata": {},
   "outputs": [
    {
     "data": {
      "text/plain": [
       "array(['50 ', '64 ', '108 ', '12 ', '200 ', '13 ', '48 ',\n",
       "       '108 Quad Rear ', '50 Quad Rear ', '13 Rear ', '64 Quad Rear ',\n",
       "       '8 Rear ', '48 Quad Rear ', '12.2 ', '50 Dual Rear ', '12 Rear ',\n",
       "       '13 Dual Rear ', '54 ', '200 Quad Rear ', '16 ', '48  ', '20 ',\n",
       "       '12.2 Rear ', '8 ', '12 Quad Rear ', '8 Dual Rear ', '16 Rear ',\n",
       "       '13 Quad Rear ', '20 Rear ', '47.2 ', '24 '], dtype=object)"
      ]
     },
     "execution_count": 30,
     "metadata": {},
     "output_type": "execute_result"
    }
   ],
   "source": [
    "Rear_Camera['Primary Camera'].unique()"
   ]
  },
  {
   "cell_type": "code",
   "execution_count": 31,
   "metadata": {},
   "outputs": [
    {
     "data": {
      "text/plain": [
       "array([' 48 ', ' 2 ', ' 8 ', ' 12 Dual Rear ', ' 50 Dual Rear ',\n",
       "       ' 2 Dual Rear ', ' 12 ', ' 13 ', None, ' 0.3 Dual Rear ',\n",
       "       ' 8 Dual Rear ', ' 50 ', ' 5 ', ' 2  ', ' Depth Sensor Dual Rear ',\n",
       "       ' 5 Dual Rear ', ' 16 ', ' 12.2 Dual Rear ', ' 20 ', ' 50  ',\n",
       "       ' 16 Dual Rear ', ' 64 ', ' 13 Dual Rear ', ' 0.08 Dual Rear ',\n",
       "       ' 1.9 Dual Rear ', ' 3 ', ' 12.2 ', ' 10 '], dtype=object)"
      ]
     },
     "execution_count": 31,
     "metadata": {},
     "output_type": "execute_result"
    }
   ],
   "source": [
    "Rear_Camera['Secondary Camera'].unique()"
   ]
  },
  {
   "cell_type": "code",
   "execution_count": null,
   "metadata": {},
   "outputs": [],
   "source": []
  }
 ],
 "metadata": {
  "kernelspec": {
   "display_name": "Python 3",
   "language": "python",
   "name": "python3"
  },
  "language_info": {
   "codemirror_mode": {
    "name": "ipython",
    "version": 3
   },
   "file_extension": ".py",
   "mimetype": "text/x-python",
   "name": "python",
   "nbconvert_exporter": "python",
   "pygments_lexer": "ipython3",
   "version": "3.11.3"
  }
 },
 "nbformat": 4,
 "nbformat_minor": 2
}
